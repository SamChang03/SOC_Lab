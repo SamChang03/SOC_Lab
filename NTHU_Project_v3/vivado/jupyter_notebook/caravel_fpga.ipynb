{
 "cells": [
  {
   "cell_type": "code",
   "execution_count": 2,
   "metadata": {},
   "outputs": [
    {
     "ename": "ModuleNotFoundError",
     "evalue": "No module named 'numpy'",
     "output_type": "error",
     "traceback": [
      "\u001b[0;31m---------------------------------------------------------------------------\u001b[0m",
      "\u001b[0;31mModuleNotFoundError\u001b[0m                       Traceback (most recent call last)",
      "Cell \u001b[0;32mIn[2], line 4\u001b[0m\n\u001b[1;32m      1\u001b[0m \u001b[38;5;28;01mfrom\u001b[39;00m \u001b[38;5;21;01m__future__\u001b[39;00m \u001b[38;5;28;01mimport\u001b[39;00m print_function\n\u001b[1;32m      3\u001b[0m \u001b[38;5;28;01mimport\u001b[39;00m \u001b[38;5;21;01msys\u001b[39;00m\n\u001b[0;32m----> 4\u001b[0m \u001b[38;5;28;01mimport\u001b[39;00m \u001b[38;5;21;01mnumpy\u001b[39;00m \u001b[38;5;28;01mas\u001b[39;00m \u001b[38;5;21;01mnp\u001b[39;00m\n\u001b[1;32m      5\u001b[0m \u001b[38;5;28;01mfrom\u001b[39;00m \u001b[38;5;21;01mtime\u001b[39;00m \u001b[38;5;28;01mimport\u001b[39;00m time\n\u001b[1;32m      6\u001b[0m \u001b[38;5;28;01mimport\u001b[39;00m \u001b[38;5;21;01mmatplotlib\u001b[39;00m\u001b[38;5;21;01m.\u001b[39;00m\u001b[38;5;21;01mpyplot\u001b[39;00m \u001b[38;5;28;01mas\u001b[39;00m \u001b[38;5;21;01mplt\u001b[39;00m \n",
      "\u001b[0;31mModuleNotFoundError\u001b[0m: No module named 'numpy'"
     ]
    }
   ],
   "source": [
    "from __future__ import print_function\n",
    "\n",
    "import sys\n",
    "import numpy as np\n",
    "from time import time\n",
    "import matplotlib.pyplot as plt \n",
    "\n",
    "sys.path.append('/home/xilinx')\n",
    "from pynq import Overlay\n",
    "from pynq import allocate\n",
    "\n",
    "ROM_SIZE = 0x2000 #8K"
   ]
  },
  {
   "cell_type": "code",
   "execution_count": 3,
   "metadata": {
    "scrolled": true
   },
   "outputs": [
    {
     "ename": "NameError",
     "evalue": "name 'Overlay' is not defined",
     "output_type": "error",
     "traceback": [
      "\u001b[0;31m---------------------------------------------------------------------------\u001b[0m",
      "\u001b[0;31mNameError\u001b[0m                                 Traceback (most recent call last)",
      "Cell \u001b[0;32mIn[3], line 1\u001b[0m\n\u001b[0;32m----> 1\u001b[0m ol \u001b[38;5;241m=\u001b[39m \u001b[43mOverlay\u001b[49m(\u001b[38;5;124m\"\u001b[39m\u001b[38;5;124m/home/xilinx/jupyter_notebooks/ipy_fpga/caravel_fpga.bit\u001b[39m\u001b[38;5;124m\"\u001b[39m)\n\u001b[1;32m      2\u001b[0m \u001b[38;5;66;03m#ol.ip_dict\u001b[39;00m\n",
      "\u001b[0;31mNameError\u001b[0m: name 'Overlay' is not defined"
     ]
    }
   ],
   "source": [
    "ol = Overlay(\"/home/xilinx/jupyter_notebooks/ipy_fpga/caravel_fpga.bit\")\n",
    "#ol.ip_dict"
   ]
  },
  {
   "cell_type": "code",
   "execution_count": 4,
   "metadata": {},
   "outputs": [
    {
     "ename": "NameError",
     "evalue": "name 'ol' is not defined",
     "output_type": "error",
     "traceback": [
      "\u001b[0;31m---------------------------------------------------------------------------\u001b[0m",
      "\u001b[0;31mNameError\u001b[0m                                 Traceback (most recent call last)",
      "Cell \u001b[0;32mIn[4], line 1\u001b[0m\n\u001b[0;32m----> 1\u001b[0m ipOUTPIN \u001b[38;5;241m=\u001b[39m \u001b[43mol\u001b[49m\u001b[38;5;241m.\u001b[39moutput_pin_0\n\u001b[1;32m      2\u001b[0m ipPS \u001b[38;5;241m=\u001b[39m ol\u001b[38;5;241m.\u001b[39mcaravel_ps_0\n\u001b[1;32m      3\u001b[0m ipReadROMCODE \u001b[38;5;241m=\u001b[39m ol\u001b[38;5;241m.\u001b[39mread_romcode_0\n",
      "\u001b[0;31mNameError\u001b[0m: name 'ol' is not defined"
     ]
    }
   ],
   "source": [
    "ipOUTPIN = ol.output_pin_0\n",
    "ipPS = ol.caravel_ps_0\n",
    "ipReadROMCODE = ol.read_romcode_0"
   ]
  },
  {
   "cell_type": "code",
   "execution_count": 5,
   "metadata": {
    "scrolled": true
   },
   "outputs": [
    {
     "ename": "NameError",
     "evalue": "name 'allocate' is not defined",
     "output_type": "error",
     "traceback": [
      "\u001b[0;31m---------------------------------------------------------------------------\u001b[0m",
      "\u001b[0;31mNameError\u001b[0m                                 Traceback (most recent call last)",
      "Cell \u001b[0;32mIn[5], line 5\u001b[0m\n\u001b[1;32m      2\u001b[0m rom_size_final \u001b[38;5;241m=\u001b[39m \u001b[38;5;241m0\u001b[39m\n\u001b[1;32m      4\u001b[0m \u001b[38;5;66;03m# Allocate dram buffer will assign physical address to ip ipReadROMCODE\u001b[39;00m\n\u001b[0;32m----> 5\u001b[0m npROM \u001b[38;5;241m=\u001b[39m \u001b[43mallocate\u001b[49m(shape\u001b[38;5;241m=\u001b[39m(ROM_SIZE \u001b[38;5;241m>>\u001b[39m \u001b[38;5;241m2\u001b[39m,), dtype\u001b[38;5;241m=\u001b[39mnp\u001b[38;5;241m.\u001b[39muint32)\n\u001b[1;32m      7\u001b[0m \u001b[38;5;66;03m# Initial it by 0\u001b[39;00m\n\u001b[1;32m      8\u001b[0m \u001b[38;5;28;01mfor\u001b[39;00m index \u001b[38;5;129;01min\u001b[39;00m \u001b[38;5;28mrange\u001b[39m (ROM_SIZE \u001b[38;5;241m>>\u001b[39m \u001b[38;5;241m2\u001b[39m):\n",
      "\u001b[0;31mNameError\u001b[0m: name 'allocate' is not defined"
     ]
    }
   ],
   "source": [
    "# Create np with 8K/4 (4 bytes per index) size and be initiled to 0\n",
    "rom_size_final = 0\n",
    "\n",
    "# Allocate dram buffer will assign physical address to ip ipReadROMCODE\n",
    "npROM = allocate(shape=(ROM_SIZE >> 2,), dtype=np.uint32)\n",
    "\n",
    "# Initial it by 0\n",
    "for index in range (ROM_SIZE >> 2):\n",
    "    npROM[index] = 0\n",
    "\n",
    "npROM_index = 0\n",
    "npROM_offset = 0\n",
    "fiROM = open(\"counter_la.hex\", \"r+\")\n",
    "#fiROM = open(\"counter_wb.hex\", \"r+\")\n",
    "\n",
    "for line in fiROM:\n",
    "    # offset header\n",
    "    if line.startswith('@'):\n",
    "        # Ignore first char @\n",
    "        npROM_offset = int(line[1:].strip(b'\\x00'.decode()), base = 16)\n",
    "        npROM_offset = npROM_offset >> 2 # 4byte per offset\n",
    "        #print (npROM_offset)\n",
    "        npROM_index = 0\n",
    "        continue\n",
    "    #print (line)\n",
    "\n",
    "    # We suppose the data must be 32bit alignment\n",
    "    buffer = 0\n",
    "    bytecount = 0\n",
    "    for line_byte in line.strip(b'\\x00'.decode()).split():\n",
    "        buffer += int(line_byte, base = 16) << (8 * bytecount)\n",
    "        bytecount += 1\n",
    "        # Collect 4 bytes, write to npROM\n",
    "        if(bytecount == 4):\n",
    "            npROM[npROM_offset + npROM_index] = buffer\n",
    "            # Clear buffer and bytecount\n",
    "            buffer = 0\n",
    "            bytecount = 0\n",
    "            npROM_index += 1\n",
    "            #print (npROM_index)\n",
    "            continue\n",
    "    # Fill rest data if not alignment 4 bytes\n",
    "    if (bytecount != 0):\n",
    "        npROM[npROM_offset + npROM_index] = buffer\n",
    "        npROM_index += 1\n",
    "    \n",
    "fiROM.close()\n",
    "\n",
    "rom_size_final = npROM_offset + npROM_index\n",
    "#print (rom_size_final)\n",
    "\n",
    "#for data in npROM:\n",
    "#    print (hex(data))"
   ]
  },
  {
   "cell_type": "code",
   "execution_count": 6,
   "metadata": {},
   "outputs": [
    {
     "ename": "NameError",
     "evalue": "name 'ipReadROMCODE' is not defined",
     "output_type": "error",
     "traceback": [
      "\u001b[0;31m---------------------------------------------------------------------------\u001b[0m",
      "\u001b[0;31mNameError\u001b[0m                                 Traceback (most recent call last)",
      "Cell \u001b[0;32mIn[6], line 16\u001b[0m\n\u001b[1;32m      1\u001b[0m \u001b[38;5;66;03m# 0x00 : Control signals\u001b[39;00m\n\u001b[1;32m      2\u001b[0m \u001b[38;5;66;03m#        bit 0  - ap_start (Read/Write/COH)\u001b[39;00m\n\u001b[1;32m      3\u001b[0m \u001b[38;5;66;03m#        bit 1  - ap_done (Read/COR)\u001b[39;00m\n\u001b[0;32m   (...)\u001b[0m\n\u001b[1;32m     14\u001b[0m \n\u001b[1;32m     15\u001b[0m \u001b[38;5;66;03m# Program physical address for the romcode base address\u001b[39;00m\n\u001b[0;32m---> 16\u001b[0m \u001b[43mipReadROMCODE\u001b[49m\u001b[38;5;241m.\u001b[39mwrite(\u001b[38;5;241m0x10\u001b[39m, npROM\u001b[38;5;241m.\u001b[39mdevice_address)\n\u001b[1;32m     17\u001b[0m ipReadROMCODE\u001b[38;5;241m.\u001b[39mwrite(\u001b[38;5;241m0x14\u001b[39m, \u001b[38;5;241m0\u001b[39m)\n\u001b[1;32m     18\u001b[0m \u001b[38;5;66;03m# Program length of moving data\u001b[39;00m\n",
      "\u001b[0;31mNameError\u001b[0m: name 'ipReadROMCODE' is not defined"
     ]
    }
   ],
   "source": [
    "# 0x00 : Control signals\n",
    "#        bit 0  - ap_start (Read/Write/COH)\n",
    "#        bit 1  - ap_done (Read/COR)\n",
    "#        bit 2  - ap_idle (Read)\n",
    "#        bit 3  - ap_ready (Read)\n",
    "#        bit 7  - auto_restart (Read/Write)\n",
    "#        others - reserved\n",
    "# 0x10 : Data signal of romcode\n",
    "#        bit 31~0 - romcode[31:0] (Read/Write)\n",
    "# 0x14 : Data signal of romcode\n",
    "#        bit 31~0 - romcode[63:32] (Read/Write)\n",
    "# 0x1c : Data signal of length_r\n",
    "#        bit 31~0 - length_r[31:0] (Read/Write)\n",
    "\n",
    "# Program physical address for the romcode base address\n",
    "ipReadROMCODE.write(0x10, npROM.device_address)\n",
    "ipReadROMCODE.write(0x14, 0)\n",
    "# Program length of moving data\n",
    "ipReadROMCODE.write(0x1C, rom_size_final)\n",
    "\n",
    "\n",
    "# ipReadROMCODE start to move the data from rom_buffer to bram\n",
    "ipReadROMCODE.write(0x00, 1) # IP Start\n",
    "while (ipReadROMCODE.read(0x00) & 0x04) == 0x00: # wait for done\n",
    "    continue\n",
    "    \n",
    "print(\"Write to bram done\")\n"
   ]
  },
  {
   "cell_type": "code",
   "execution_count": 7,
   "metadata": {},
   "outputs": [
    {
     "ename": "NameError",
     "evalue": "name 'ipPS' is not defined",
     "output_type": "error",
     "traceback": [
      "\u001b[0;31m---------------------------------------------------------------------------\u001b[0m",
      "\u001b[0;31mNameError\u001b[0m                                 Traceback (most recent call last)",
      "Cell \u001b[0;32mIn[7], line 18\u001b[0m\n\u001b[1;32m      1\u001b[0m \u001b[38;5;66;03m# Check MPRJ_IO input/out/en\u001b[39;00m\n\u001b[1;32m      2\u001b[0m \u001b[38;5;66;03m# 0x10 : Data signal of ps_mprj_in\u001b[39;00m\n\u001b[1;32m      3\u001b[0m \u001b[38;5;66;03m#        bit 31~0 - ps_mprj_in[31:0] (Read/Write)\u001b[39;00m\n\u001b[0;32m   (...)\u001b[0m\n\u001b[1;32m     15\u001b[0m \u001b[38;5;66;03m#        bit 5~0 - ps_mprj_en[37:32] (Read)\u001b[39;00m\n\u001b[1;32m     16\u001b[0m \u001b[38;5;66;03m#        others  - reserved\u001b[39;00m\n\u001b[0;32m---> 18\u001b[0m \u001b[38;5;28mprint\u001b[39m (\u001b[38;5;124m\"\u001b[39m\u001b[38;5;124m0x10 = \u001b[39m\u001b[38;5;124m\"\u001b[39m, \u001b[38;5;28mhex\u001b[39m(\u001b[43mipPS\u001b[49m\u001b[38;5;241m.\u001b[39mread(\u001b[38;5;241m0x10\u001b[39m)))\n\u001b[1;32m     19\u001b[0m \u001b[38;5;28mprint\u001b[39m (\u001b[38;5;124m\"\u001b[39m\u001b[38;5;124m0x14 = \u001b[39m\u001b[38;5;124m\"\u001b[39m, \u001b[38;5;28mhex\u001b[39m(ipPS\u001b[38;5;241m.\u001b[39mread(\u001b[38;5;241m0x14\u001b[39m)))\n\u001b[1;32m     20\u001b[0m \u001b[38;5;28mprint\u001b[39m (\u001b[38;5;124m\"\u001b[39m\u001b[38;5;124m0x1c = \u001b[39m\u001b[38;5;124m\"\u001b[39m, \u001b[38;5;28mhex\u001b[39m(ipPS\u001b[38;5;241m.\u001b[39mread(\u001b[38;5;241m0x1c\u001b[39m)))\n",
      "\u001b[0;31mNameError\u001b[0m: name 'ipPS' is not defined"
     ]
    }
   ],
   "source": [
    "# Check MPRJ_IO input/out/en\n",
    "# 0x10 : Data signal of ps_mprj_in\n",
    "#        bit 31~0 - ps_mprj_in[31:0] (Read/Write)\n",
    "# 0x14 : Data signal of ps_mprj_in\n",
    "#        bit 5~0 - ps_mprj_in[37:32] (Read/Write)\n",
    "#        others  - reserved\n",
    "# 0x1c : Data signal of ps_mprj_out\n",
    "#        bit 31~0 - ps_mprj_out[31:0] (Read)\n",
    "# 0x20 : Data signal of ps_mprj_out\n",
    "#        bit 5~0 - ps_mprj_out[37:32] (Read)\n",
    "#        others  - reserved\n",
    "# 0x34 : Data signal of ps_mprj_en\n",
    "#        bit 31~0 - ps_mprj_en[31:0] (Read)\n",
    "# 0x38 : Data signal of ps_mprj_en\n",
    "#        bit 5~0 - ps_mprj_en[37:32] (Read)\n",
    "#        others  - reserved\n",
    "\n",
    "print (\"0x10 = \", hex(ipPS.read(0x10)))\n",
    "print (\"0x14 = \", hex(ipPS.read(0x14)))\n",
    "print (\"0x1c = \", hex(ipPS.read(0x1c)))\n",
    "print (\"0x20 = \", hex(ipPS.read(0x20)))\n",
    "print (\"0x34 = \", hex(ipPS.read(0x34)))\n",
    "print (\"0x38 = \", hex(ipPS.read(0x38)))\n"
   ]
  },
  {
   "cell_type": "code",
   "execution_count": 8,
   "metadata": {
    "scrolled": true
   },
   "outputs": [
    {
     "ename": "NameError",
     "evalue": "name 'ipOUTPIN' is not defined",
     "output_type": "error",
     "traceback": [
      "\u001b[0;31m---------------------------------------------------------------------------\u001b[0m",
      "\u001b[0;31mNameError\u001b[0m                                 Traceback (most recent call last)",
      "Cell \u001b[0;32mIn[8], line 5\u001b[0m\n\u001b[1;32m      1\u001b[0m \u001b[38;5;66;03m# Release Caravel reset\u001b[39;00m\n\u001b[1;32m      2\u001b[0m \u001b[38;5;66;03m# 0x10 : Data signal of outpin_ctrl\u001b[39;00m\n\u001b[1;32m      3\u001b[0m \u001b[38;5;66;03m#        bit 0  - outpin_ctrl[0] (Read/Write)\u001b[39;00m\n\u001b[1;32m      4\u001b[0m \u001b[38;5;66;03m#        others - reserved\u001b[39;00m\n\u001b[0;32m----> 5\u001b[0m \u001b[38;5;28mprint\u001b[39m (\u001b[43mipOUTPIN\u001b[49m\u001b[38;5;241m.\u001b[39mread(\u001b[38;5;241m0x10\u001b[39m))\n\u001b[1;32m      6\u001b[0m ipOUTPIN\u001b[38;5;241m.\u001b[39mwrite(\u001b[38;5;241m0x10\u001b[39m, \u001b[38;5;241m1\u001b[39m)\n\u001b[1;32m      7\u001b[0m \u001b[38;5;28mprint\u001b[39m (ipOUTPIN\u001b[38;5;241m.\u001b[39mread(\u001b[38;5;241m0x10\u001b[39m))\n",
      "\u001b[0;31mNameError\u001b[0m: name 'ipOUTPIN' is not defined"
     ]
    }
   ],
   "source": [
    "# Release Caravel reset\n",
    "# 0x10 : Data signal of outpin_ctrl\n",
    "#        bit 0  - outpin_ctrl[0] (Read/Write)\n",
    "#        others - reserved\n",
    "print (ipOUTPIN.read(0x10))\n",
    "ipOUTPIN.write(0x10, 1)\n",
    "print (ipOUTPIN.read(0x10))"
   ]
  },
  {
   "cell_type": "code",
   "execution_count": 9,
   "metadata": {
    "scrolled": true
   },
   "outputs": [
    {
     "ename": "NameError",
     "evalue": "name 'ipPS' is not defined",
     "output_type": "error",
     "traceback": [
      "\u001b[0;31m---------------------------------------------------------------------------\u001b[0m",
      "\u001b[0;31mNameError\u001b[0m                                 Traceback (most recent call last)",
      "Cell \u001b[0;32mIn[9], line 18\u001b[0m\n\u001b[1;32m      1\u001b[0m \u001b[38;5;66;03m# Check MPRJ_IO input/out/en\u001b[39;00m\n\u001b[1;32m      2\u001b[0m \u001b[38;5;66;03m# 0x10 : Data signal of ps_mprj_in\u001b[39;00m\n\u001b[1;32m      3\u001b[0m \u001b[38;5;66;03m#        bit 31~0 - ps_mprj_in[31:0] (Read/Write)\u001b[39;00m\n\u001b[0;32m   (...)\u001b[0m\n\u001b[1;32m     15\u001b[0m \u001b[38;5;66;03m#        bit 5~0 - ps_mprj_en[37:32] (Read)\u001b[39;00m\n\u001b[1;32m     16\u001b[0m \u001b[38;5;66;03m#        others  - reserved\u001b[39;00m\n\u001b[0;32m---> 18\u001b[0m \u001b[38;5;28mprint\u001b[39m (\u001b[38;5;124m\"\u001b[39m\u001b[38;5;124m0x10 = \u001b[39m\u001b[38;5;124m\"\u001b[39m, \u001b[38;5;28mhex\u001b[39m(\u001b[43mipPS\u001b[49m\u001b[38;5;241m.\u001b[39mread(\u001b[38;5;241m0x10\u001b[39m)))\n\u001b[1;32m     19\u001b[0m \u001b[38;5;28mprint\u001b[39m (\u001b[38;5;124m\"\u001b[39m\u001b[38;5;124m0x14 = \u001b[39m\u001b[38;5;124m\"\u001b[39m, \u001b[38;5;28mhex\u001b[39m(ipPS\u001b[38;5;241m.\u001b[39mread(\u001b[38;5;241m0x14\u001b[39m)))\n\u001b[1;32m     20\u001b[0m \u001b[38;5;28mprint\u001b[39m (\u001b[38;5;124m\"\u001b[39m\u001b[38;5;124m0x1c = \u001b[39m\u001b[38;5;124m\"\u001b[39m, \u001b[38;5;28mhex\u001b[39m(ipPS\u001b[38;5;241m.\u001b[39mread(\u001b[38;5;241m0x1c\u001b[39m)))\n",
      "\u001b[0;31mNameError\u001b[0m: name 'ipPS' is not defined"
     ]
    }
   ],
   "source": [
    "# Check MPRJ_IO input/out/en\n",
    "# 0x10 : Data signal of ps_mprj_in\n",
    "#        bit 31~0 - ps_mprj_in[31:0] (Read/Write)\n",
    "# 0x14 : Data signal of ps_mprj_in\n",
    "#        bit 5~0 - ps_mprj_in[37:32] (Read/Write)\n",
    "#        others  - reserved\n",
    "# 0x1c : Data signal of ps_mprj_out\n",
    "#        bit 31~0 - ps_mprj_out[31:0] (Read)\n",
    "# 0x20 : Data signal of ps_mprj_out\n",
    "#        bit 5~0 - ps_mprj_out[37:32] (Read)\n",
    "#        others  - reserved\n",
    "# 0x34 : Data signal of ps_mprj_en\n",
    "#        bit 31~0 - ps_mprj_en[31:0] (Read)\n",
    "# 0x38 : Data signal of ps_mprj_en\n",
    "#        bit 5~0 - ps_mprj_en[37:32] (Read)\n",
    "#        others  - reserved\n",
    "\n",
    "print (\"0x10 = \", hex(ipPS.read(0x10)))\n",
    "print (\"0x14 = \", hex(ipPS.read(0x14)))\n",
    "print (\"0x1c = \", hex(ipPS.read(0x1c)))\n",
    "print (\"0x20 = \", hex(ipPS.read(0x20)))\n",
    "print (\"0x34 = \", hex(ipPS.read(0x34)))\n",
    "print (\"0x38 = \", hex(ipPS.read(0x38)))"
   ]
  }
 ],
 "metadata": {
  "kernelspec": {
   "display_name": "Python 3 (ipykernel)",
   "language": "python",
   "name": "python3"
  },
  "language_info": {
   "codemirror_mode": {
    "name": "ipython",
    "version": 3
   },
   "file_extension": ".py",
   "mimetype": "text/x-python",
   "name": "python",
   "nbconvert_exporter": "python",
   "pygments_lexer": "ipython3",
   "version": "3.8.10"
  }
 },
 "nbformat": 4,
 "nbformat_minor": 4
}
